test 124asdasdasd

{
 "cells": [
  {
   "cell_type": "code",
   "execution_count": 6,
   "metadata": {},
   "outputs": [
    {
     "name": "stdout",
     "output_type": "stream",
     "text": [
      "      ID  Available\n",
      "0      1        NaN\n",
      "1      2        NaN\n",
      "2      3        NaN\n",
      "3      4        NaN\n",
      "4      5        NaN\n",
      "5      6        NaN\n",
      "6      7        NaN\n",
      "7      8        NaN\n",
      "8      9        NaN\n",
      "9     10        NaN\n",
      "10    11        NaN\n",
      "11    12        NaN\n",
      "12    13        NaN\n",
      "13    14        NaN\n",
      "14    15        NaN\n",
      "15    16        NaN\n",
      "16    17        NaN\n",
      "17    18        NaN\n",
      "18    19        NaN\n",
      "19    20        NaN\n",
      "20    21        NaN\n",
      "21    22        NaN\n",
      "22    23        NaN\n",
      "23    24        NaN\n",
      "24    25        NaN\n",
      "25    26        NaN\n",
      "26    27        NaN\n",
      "27    28        NaN\n",
      "28    29        NaN\n",
      "29    30        NaN\n",
      "..   ...        ...\n",
      "789  790        NaN\n",
      "790  791        NaN\n",
      "791  792        NaN\n",
      "792  793        NaN\n",
      "793  794        NaN\n",
      "794  795        NaN\n",
      "795  796        NaN\n",
      "796  797        NaN\n",
      "797  798        NaN\n",
      "798  799        NaN\n",
      "799  800        NaN\n",
      "800  801        NaN\n",
      "801  802        NaN\n",
      "802  803        NaN\n",
      "803  804        NaN\n",
      "804  805        NaN\n",
      "805  806        NaN\n",
      "806  807        NaN\n",
      "807  808        NaN\n",
      "808  809        NaN\n",
      "809  810        NaN\n",
      "810  811        NaN\n",
      "811  812        NaN\n",
      "812  813        NaN\n",
      "813  814        NaN\n",
      "814  815        NaN\n",
      "815  816        NaN\n",
      "816  817        NaN\n",
      "817  818        NaN\n",
      "818  819        NaN\n",
      "\n",
      "[819 rows x 2 columns]\n"
     ]
    }
   ],
   "source": [
    "from pandas import DataFrame, read_csv\n",
    "\n",
    "\n",
    "import pandas as pd\n",
    "xls = pd.ExcelFile('Ortec Data.xlsx')\n",
    "df1 = pd.read_excel(xls,'Cottages')\n",
    "df2 = pd.read_excel(xls,'Reservations')\n",
    "header_list = [\"ID\", \"Available\"]\n",
    "df1 = df1.reindex(columns = header_list)\n",
    "\n",
    "# df1.Available = 0\n",
    "# for i in range(0, len(df1)):\n",
    "#     if df1.Available[i] == 0:\n",
    "#         df1.Available[i] = df2['Length of Stay'][i]\n",
    "#         for i in range(0,4):\n",
    "#             df1.Available = df1.Available-1\n",
    "\n",
    "print(df1)\n"
   ]
  },
  {
   "cell_type": "code",
   "execution_count": null,
   "metadata": {},
   "outputs": [],
   "source": [
    "\n",
    "\n"
   ]
  },
  {
   "cell_type": "code",
   "execution_count": null,
   "metadata": {},
   "outputs": [],
   "source": []
  }
 ],
 "metadata": {
  "kernelspec": {
   "display_name": "Python 3",
   "language": "python",
   "name": "python3"
  },
  "language_info": {
   "codemirror_mode": {
    "name": "ipython",
    "version": 3
   },
   "file_extension": ".py",
   "mimetype": "text/x-python",
   "name": "python",
   "nbconvert_exporter": "python",
   "pygments_lexer": "ipython3",
   "version": "3.6.4"
  }
 },
 "nbformat": 4,
 "nbformat_minor": 2
}
